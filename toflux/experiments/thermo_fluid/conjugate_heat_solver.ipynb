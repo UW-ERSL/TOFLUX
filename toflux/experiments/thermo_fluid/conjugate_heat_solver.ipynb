{
 "cells": [
  {
   "cell_type": "code",
   "execution_count": null,
   "id": "b3e2a9a0",
   "metadata": {},
   "outputs": [],
   "source": [
    "import numpy as np\n",
    "import jax.numpy as jnp\n",
    "import jax\n",
    "from jax.typing import ArrayLike\n",
    "import matplotlib.pyplot as plt\n",
    "\n",
    "import toflux.src.utils as _utils\n",
    "import toflux.src.mesher as _mesher\n",
    "import toflux.src.material as _mat\n",
    "import toflux.src.bc as _bc\n",
    "\n",
    "import toflux.src.fe_thermal as _fea_thermal\n",
    "import toflux.src.fe_fluid as _fea_fluid\n",
    "import toflux.src.solver as _solv\n",
    "import toflux.src.viz as _viz\n",
    "\n",
    "\n",
    "_Ext = _utils.Extent\n",
    "_FluidField = _fea_fluid.FluidField\n",
    "_TempField = _fea_thermal.ThermalField\n",
    "\n",
    "jax.config.update(\"jax_enable_x64\", True)"
   ]
  },
  {
   "cell_type": "markdown",
   "id": "4079f78b",
   "metadata": {},
   "source": [
    "## Define Geometry and Mesh"
   ]
  },
  {
   "cell_type": "code",
   "execution_count": null,
   "id": "bebdccfb",
   "metadata": {},
   "outputs": [],
   "source": [
    "bbox = _mesher.BoundingBox(\n",
    "  x=_Ext(min=0.0, max=0.2),\n",
    "  y=_Ext(min=0.0, max=0.02),\n",
    ")\n",
    "\n",
    "thermal_mesh = _mesher.GridMesh(\n",
    "  bounding_box=bbox,\n",
    "  nel=(100, 20),\n",
    "  dofs_per_node=1,\n",
    "  gauss_order=2,\n",
    ")\n",
    "\n",
    "fluid_mesh = _mesher.GridMesh(\n",
    "  bounding_box=bbox,\n",
    "  nel=(100, 20),\n",
    "  dofs_per_node=3,\n",
    "  gauss_order=2,\n",
    ")"
   ]
  },
  {
   "cell_type": "markdown",
   "id": "26551875",
   "metadata": {},
   "source": [
    "## Material"
   ]
  },
  {
   "cell_type": "code",
   "execution_count": null,
   "id": "46051230",
   "metadata": {},
   "outputs": [],
   "source": [
    "fluid_mat = _mat.FluidMaterial(\n",
    "  mass_density=1.2,\n",
    "  dynamic_viscosity=1.8e-5,\n",
    ")\n",
    "\n",
    "thermal_mat = _mat.ThermalMaterial(\n",
    "  thermal_conductivity=0.025,\n",
    "  specific_heat=1006.0,\n",
    "  mass_density=1.2,\n",
    ")"
   ]
  },
  {
   "cell_type": "markdown",
   "id": "8bfae821",
   "metadata": {},
   "source": [
    "## Fluid Boundray Conditions"
   ]
  },
  {
   "cell_type": "code",
   "execution_count": null,
   "id": "e2a30735",
   "metadata": {},
   "outputs": [],
   "source": [
    "reynolds_num = 100.0\n",
    "char_velocity = reynolds_num * fluid_mat.kinematic_viscosity / (bbox.ly)\n",
    "\n",
    "\n",
    "def inlet_cond(node_coords):\n",
    "  left = jnp.all(node_coords[:, 0] <= fluid_mesh.elem_size[0] / 2.0)\n",
    "  return left\n",
    "\n",
    "\n",
    "def outlet_cond(node_coords):\n",
    "  right = jnp.all(node_coords[:, 0] >= bbox.lx - fluid_mesh.elem_size[0] / 2.0)\n",
    "  return right\n",
    "\n",
    "\n",
    "def btm_face_cond(node_coords):\n",
    "  btm = jnp.all(node_coords[:, 1] <= fluid_mesh.elem_size[1] / 2.0)\n",
    "  return btm\n",
    "\n",
    "\n",
    "def top_face_cond(node_coords):\n",
    "  top = jnp.all(node_coords[:, 1] >= bbox.ly - fluid_mesh.elem_size[1] / 2.0)\n",
    "  return top\n",
    "\n",
    "\n",
    "inlet_faces = _bc.identify_faces(fluid_mesh, inlet_cond)\n",
    "n = len(inlet_faces)\n",
    "u_vel = (_FluidField.U_VEL, char_velocity * jnp.ones(n))\n",
    "v_vel = (_FluidField.V_VEL, jnp.zeros(n))\n",
    "inlet_face_val = [u_vel, v_vel]\n",
    "\n",
    "# outlet condition\n",
    "outlet_faces = _bc.identify_faces(fluid_mesh, outlet_cond)\n",
    "n = len(outlet_faces)\n",
    "\n",
    "v_vel = (_FluidField.V_VEL, jnp.zeros(n))\n",
    "\n",
    "pres = (_FluidField.PRESSURE, jnp.zeros(n))\n",
    "outlet_face_val = [v_vel, pres]\n",
    "\n",
    "# top condition\n",
    "top_faces = _bc.identify_faces(fluid_mesh, top_face_cond)\n",
    "n = len(top_faces)\n",
    "\n",
    "u_vel = (_FluidField.U_VEL, jnp.zeros(n))\n",
    "\n",
    "v_vel = (_FluidField.V_VEL, jnp.zeros(n))\n",
    "\n",
    "top_face_val = [u_vel, v_vel]\n",
    "\n",
    "# bottom condition\n",
    "bottom_faces = _bc.identify_faces(fluid_mesh, btm_face_cond)\n",
    "n = len(bottom_faces)\n",
    "\n",
    "u_vel = (_FluidField.U_VEL, jnp.zeros(n))\n",
    "\n",
    "v_vel = (_FluidField.V_VEL, jnp.zeros(n))\n",
    "\n",
    "bottom_face_val = [u_vel, v_vel]\n",
    "\n",
    "inlet_bc = _bc.DirichletBC(elem_faces=inlet_faces, values=inlet_face_val, name=\"in\")\n",
    "outlet_bc = _bc.DirichletBC(elem_faces=outlet_faces, values=outlet_face_val, name=\"out\")\n",
    "top_bc = _bc.DirichletBC(elem_faces=top_faces, values=top_face_val, name=\"top\")\n",
    "bottom_bc = _bc.DirichletBC(elem_faces=bottom_faces, values=bottom_face_val, name=\"btm\")\n",
    "\n",
    "fluid_bc_list = [inlet_bc, outlet_bc, top_bc, bottom_bc]\n",
    "\n",
    "fluid_bc = _bc.process_boundary_conditions(fluid_bc_list, fluid_mesh)"
   ]
  },
  {
   "cell_type": "code",
   "execution_count": null,
   "id": "3fb465bd",
   "metadata": {},
   "outputs": [],
   "source": [
    "fig, ax = plt.subplots(figsize=(12, 6))\n",
    "_viz.plot_grid_mesh(fluid_mesh, ax=ax, colorbar=False)\n",
    "_viz.plot_bc(fluid_bc_list, fluid_mesh, ax=ax)\n",
    "plt.show()"
   ]
  },
  {
   "cell_type": "markdown",
   "id": "225af859",
   "metadata": {},
   "source": [
    "## Thermal boundary condition"
   ]
  },
  {
   "cell_type": "code",
   "execution_count": null,
   "id": "4475f0fb",
   "metadata": {},
   "outputs": [],
   "source": [
    "def inlet_cond(node_coords):\n",
    "  left = jnp.all(node_coords[:, 0] <= thermal_mesh.elem_size[0] / 2.0)\n",
    "  return left\n",
    "\n",
    "\n",
    "def btm_face_cond(node_coords):\n",
    "  return jnp.all(node_coords[:, 1] <= 1.05 * thermal_mesh.bounding_box.y.min)\n",
    "\n",
    "\n",
    "def top_face_cond(node_coords):\n",
    "  return jnp.all(\n",
    "    node_coords[:, 1]\n",
    "    >= thermal_mesh.bounding_box.y.max - thermal_mesh.elem_size[1] / 2.0\n",
    "  )\n",
    "\n",
    "\n",
    "inlet_faces = _bc.identify_faces(thermal_mesh, inlet_cond)\n",
    "n = len(inlet_faces)\n",
    "tv = (_TempField.TEMPERATURE, 20.0 * jnp.ones(n))\n",
    "inlet_face_val = [tv]\n",
    "\n",
    "btm_faces = _bc.identify_faces(thermal_mesh, btm_face_cond)\n",
    "n = len(btm_faces)\n",
    "tv = (_TempField.TEMPERATURE, 100.0 * jnp.ones(n))\n",
    "btm_face_val = [tv]\n",
    "\n",
    "top_faces = _bc.identify_faces(thermal_mesh, top_face_cond)\n",
    "n = len(top_faces)\n",
    "tv = (_TempField.TEMPERATURE, 100.0 * jnp.ones(n))\n",
    "top_face_val = [tv]\n",
    "\n",
    "\n",
    "btm_bc = _bc.DirichletBC(elem_faces=btm_faces, values=btm_face_val, name=\"btm\")\n",
    "inlet_bc = _bc.DirichletBC(elem_faces=inlet_faces, values=inlet_face_val, name=\"in\")\n",
    "top_bc = _bc.DirichletBC(elem_faces=top_faces, values=top_face_val, name=\"top\")\n",
    "\n",
    "thermal_bc_list = [btm_bc, inlet_bc, top_bc]\n",
    "thermal_bc = _bc.process_boundary_conditions(thermal_bc_list, thermal_mesh)"
   ]
  },
  {
   "cell_type": "code",
   "execution_count": null,
   "id": "802591a4",
   "metadata": {},
   "outputs": [],
   "source": [
    "fig, ax = plt.subplots(figsize=(12, 6))\n",
    "_viz.plot_grid_mesh(thermal_mesh, ax=ax, colorbar=False)\n",
    "_viz.plot_bc(thermal_bc_list, thermal_mesh, ax=ax)\n",
    "plt.show()"
   ]
  },
  {
   "cell_type": "markdown",
   "id": "caa25a1b",
   "metadata": {},
   "source": [
    "# Solver"
   ]
  },
  {
   "cell_type": "code",
   "execution_count": null,
   "id": "aa02cdb3",
   "metadata": {},
   "outputs": [],
   "source": [
    "solver_settings = {\n",
    "  \"linear\": {\n",
    "    \"solver\": _solv.LinearSolvers.SCIPY_SPARSE,\n",
    "    \"rtol\": 1.0e-3,\n",
    "    \"petsc_solver\": {},\n",
    "  },\n",
    "  \"nonlinear\": {\"max_iter\": 10, \"threshold\": 1.0e-4},\n",
    "}\n",
    "\n",
    "flow_solver = _fea_fluid.FluidSolver(\n",
    "  mesh=fluid_mesh, bc=fluid_bc, material=fluid_mat, solver_settings=solver_settings\n",
    ")\n",
    "\n",
    "\n",
    "thermal_solver = _fea_thermal.FEA(\n",
    "  mesh=thermal_mesh,\n",
    "  material=thermal_mat,\n",
    "  bc=thermal_bc,\n",
    "  solver_settings=solver_settings,\n",
    ")"
   ]
  },
  {
   "cell_type": "code",
   "execution_count": null,
   "id": "6a570899",
   "metadata": {},
   "outputs": [],
   "source": [
    "press_vel = jnp.zeros((fluid_mesh.num_dofs,))\n",
    "press_vel = press_vel.at[fluid_bc[\"fixed_dofs\"]].set(fluid_bc[\"dirichlet_values\"])\n"
   ]
  },
  {
   "cell_type": "code",
   "execution_count": null,
   "id": "45d5c3d6",
   "metadata": {},
   "outputs": [],
   "source": [
    "density = np.zeros((fluid_mesh.num_elems,))\n",
    "inv_permeability_ext = _utils.Extent(min=0.0, max=122.5)\n",
    "brinkman_penalty = _mat.compute_ramp_interpolation(\n",
    "  prop=density,\n",
    "  ramp_penalty=8.0,\n",
    "  prop_ext=inv_permeability_ext,\n",
    ")"
   ]
  },
  {
   "cell_type": "code",
   "execution_count": null,
   "id": "71ffe95c",
   "metadata": {},
   "outputs": [],
   "source": [
    "press_vel = _solv.modified_newton_raphson_solve(\n",
    "  flow_solver, press_vel, brinkman_penalty\n",
    ")"
   ]
  },
  {
   "cell_type": "code",
   "execution_count": null,
   "id": "76e0e35d",
   "metadata": {},
   "outputs": [],
   "source": [
    "u_velocity = press_vel[1 : fluid_mesh.num_dofs : 3]\n",
    "v_velocity = press_vel[2 : fluid_mesh.num_dofs : 3]\n",
    "\n",
    "pressure = press_vel[0 : fluid_mesh.num_dofs : 3]\n",
    "plt.figure()\n",
    "a = plt.imshow(\n",
    "  u_velocity.reshape((fluid_mesh.nelx + 1, fluid_mesh.nely + 1)).T,\n",
    "  cmap=\"rainbow\",\n",
    "  origin=\"lower\",\n",
    ")\n",
    "plt.colorbar(a)\n",
    "plt.title(\"U velocity field\")\n"
   ]
  },
  {
   "cell_type": "code",
   "execution_count": null,
   "id": "45cab923",
   "metadata": {},
   "outputs": [],
   "source": [
    "elem_press_vel = press_vel[fluid_mesh.elem_dof_mat]  # (elems, num_dofs_per_elem)\n",
    "elem_u_vel = elem_press_vel[:, 1 :: fluid_mesh.nodes.dof_per_node]\n",
    "elem_v_vel = elem_press_vel[:, 2 :: fluid_mesh.nodes.dof_per_node]\n",
    "\n",
    "num_vel_dofs_per_elem = fluid_mesh.num_dim * fluid_mesh.elem_template.num_nodes\n",
    "elem_vel = jnp.zeros((fluid_mesh.num_elems, num_vel_dofs_per_elem))\n",
    "elem_vel = elem_vel.at[:, 0 :: fluid_mesh.num_dim].set(elem_u_vel)\n",
    "elem_vel = elem_vel.at[:, 1 :: fluid_mesh.num_dim].set(elem_v_vel)"
   ]
  },
  {
   "cell_type": "code",
   "execution_count": null,
   "id": "423151d1",
   "metadata": {},
   "outputs": [],
   "source": [
    "plt.figure()\n",
    "a = plt.imshow(\n",
    "  elem_u_vel.mean(axis=1).reshape((fluid_mesh.nelx, fluid_mesh.nely)).T,\n",
    "  cmap=\"rainbow\",\n",
    "  origin=\"lower\",\n",
    ")\n",
    "plt.colorbar(a)"
   ]
  },
  {
   "cell_type": "code",
   "execution_count": null,
   "id": "027803c9",
   "metadata": {},
   "outputs": [],
   "source": [
    "temp = jnp.zeros((thermal_mesh.num_dofs,))\n",
    "temp = temp.at[thermal_bc[\"fixed_dofs\"]].set(thermal_bc[\"dirichlet_values\"])\n",
    "\n",
    "\n",
    "diffusivity_ext = _utils.Extent(\n",
    "  min=thermal_mat.diffusivity, max=thermal_mat.diffusivity\n",
    ")\n",
    "\n",
    "eff_diffusivity = _mat.compute_ramp_interpolation(\n",
    "  prop=density,\n",
    "  ramp_penalty=0.01,\n",
    "  prop_ext=diffusivity_ext,\n",
    "  mode=\"concave\",\n",
    ")\n",
    "\n",
    "temp = _solv.modified_newton_raphson_solve(\n",
    "  thermal_solver, temp, elem_vel, eff_diffusivity\n",
    ")"
   ]
  },
  {
   "cell_type": "code",
   "execution_count": null,
   "id": "8b331aaa",
   "metadata": {},
   "outputs": [],
   "source": [
    "plt.figure()\n",
    "a = plt.imshow(\n",
    "  temp.reshape((fluid_mesh.nelx + 1, fluid_mesh.nely + 1)).T,\n",
    "  cmap=\"rainbow\",\n",
    "  origin=\"lower\",\n",
    ")\n",
    "plt.colorbar(a)"
   ]
  },
  {
   "cell_type": "code",
   "execution_count": null,
   "id": "6cca293d",
   "metadata": {},
   "outputs": [],
   "source": []
  }
 ],
 "metadata": {
  "kernelspec": {
   "display_name": "jax_py",
   "language": "python",
   "name": "python3"
  },
  "language_info": {
   "codemirror_mode": {
    "name": "ipython",
    "version": 3
   },
   "file_extension": ".py",
   "mimetype": "text/x-python",
   "name": "python",
   "nbconvert_exporter": "python",
   "pygments_lexer": "ipython3",
   "version": "3.10.18"
  }
 },
 "nbformat": 4,
 "nbformat_minor": 5
}
