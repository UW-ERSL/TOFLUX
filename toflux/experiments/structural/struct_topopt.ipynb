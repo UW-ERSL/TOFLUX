{
 "cells": [
  {
   "cell_type": "markdown",
   "id": "c61147ed",
   "metadata": {},
   "source": [
    "## Setup\n",
    "\n",
    "In this notebook, we continue along the L-bracket example for optimization. For details on structural solver see `solve_struct.ipynb`\n",
    "\n",
    "\\begin{gather*}\n",
    "\\underset{\\rho}{\\text{minimize}} \\quad J = \\mathbf{u}^\\mathsf{T} \\mathbf{K}(\\rho)\\mathbf{u} \\\\\n",
    "\\text{subject to} \\quad \\mathbf{R}(\\rho, \\mathbf{u}) = \\mathbf{0} \\\\\n",
    "g \\equiv \\frac{\\sum_e \\rho_e v_e}{V^*} - 1 \\leq 0\n",
    "\\end{gather*}\n",
    "\n",
    "\n",
    "Where $\\rho$ are the element densitites, where $\\boldsymbol{u}$ is the displacement, $\\boldsymbol{R}$ is the residual equation corresponding to the structural finite element analysis, $v_e$ are the element volumes (areas in 2D) and $V^*$ is the maximum allowed volume.\n",
    "\n",
    "We consider a simple compliance minimization problem under volume constraint. We employ the standard element based design paramterization for illustration. \n",
    "\n",
    "\n",
    "We describe in detail the setup of the FEA problem in the previous notebook. Here we simply extend the FEA towards optimization.\n",
    "\n",
    "We use the MMA optimizer. The optimizer depends on the gradients of the objectives and the constraints with respect to the design variables. These are computed automatically in JAX."
   ]
  },
  {
   "cell_type": "code",
   "execution_count": null,
   "id": "de31e004",
   "metadata": {},
   "outputs": [],
   "source": [
    "import functools\n",
    "import numpy as np\n",
    "import jax.numpy as jnp\n",
    "import jax\n",
    "import matplotlib.pyplot as plt\n",
    "\n",
    "import toflux.src.utils as _utils\n",
    "import toflux.src.geometry as _geom\n",
    "import toflux.src.mesher as _mesher\n",
    "import toflux.src.material as _mat\n",
    "import toflux.src.bc as _bc\n",
    "\n",
    "import toflux.src.fe_struct as _fea\n",
    "import toflux.src.solver as _solv\n",
    "import toflux.src.mma as _mma\n",
    "import toflux.src.viz as _viz\n",
    "\n",
    "_Disp = _fea.DisplacementField\n",
    "\n",
    "jax.config.update(\"jax_enable_x64\", True)"
   ]
  },
  {
   "cell_type": "markdown",
   "id": "4be9689e",
   "metadata": {},
   "source": [
    "## Mesh"
   ]
  },
  {
   "cell_type": "code",
   "execution_count": null,
   "id": "34f220af",
   "metadata": {},
   "outputs": [],
   "source": [
    "geom = _geom.BrepGeometry(\"toflux/brep/Lbeam.json\")\n",
    "\n",
    "mesh = _mesher.grid_mesh_brep(\n",
    "  brep=geom,\n",
    "  nelx_desired=80,\n",
    "  nely_desired=80,\n",
    "  dofs_per_node=2,\n",
    "  gauss_order=3,\n",
    ")\n",
    "\n",
    "density = jnp.zeros(mesh.num_elems)\n",
    "_viz.plot_grid_mesh(mesh, density)\n",
    "_viz.plot_brep(geom)"
   ]
  },
  {
   "cell_type": "markdown",
   "id": "aa0b76ab",
   "metadata": {},
   "source": [
    "## Material"
   ]
  },
  {
   "cell_type": "code",
   "execution_count": null,
   "id": "1b352c72",
   "metadata": {},
   "outputs": [],
   "source": [
    "material_params = _mat.StructuralMaterial(\n",
    "  youngs_modulus=1.0,\n",
    "  poissons_ratio=0.30,\n",
    ")\n",
    "\n",
    "deformation_model = _fea.DeformationModel.SMALL"
   ]
  },
  {
   "cell_type": "markdown",
   "id": "8f2896e5",
   "metadata": {},
   "source": [
    "## Boundary conditions\n",
    "\n"
   ]
  },
  {
   "cell_type": "code",
   "execution_count": null,
   "id": "95a43b77",
   "metadata": {},
   "outputs": [],
   "source": [
    "hang_faces = _bc.identify_faces(mesh, edges=[geom.edges[2]])\n",
    "n = len(hang_faces)\n",
    "hang_face_val = [(_Disp.V, -5.e-4 * jnp.ones(n))]\n",
    "\n",
    "\n",
    "top_faces = _bc.identify_faces(mesh, edges=[geom.edges[5]])\n",
    "n = len(top_faces)\n",
    "xv = (_Disp.U, jnp.zeros(n))\n",
    "yv = (_Disp.V, jnp.zeros(n))\n",
    "\n",
    "top_face_val = [xv, yv]\n",
    "\n",
    "fixed_bc = _bc.DirichletBC(elem_faces=top_faces, values=top_face_val, name=\"fix\")\n",
    "load_bc = _bc.NeumannBC(elem_faces=hang_faces, values=hang_face_val, name=\"load\")\n",
    "\n",
    "bc_list = [fixed_bc, load_bc]\n",
    "bc = _bc.process_boundary_conditions(bc_list, mesh)\n",
    "\n",
    "_viz.plot_bc(bc_list, mesh)"
   ]
  },
  {
   "cell_type": "markdown",
   "id": "c1988928",
   "metadata": {},
   "source": [
    "## Solver"
   ]
  },
  {
   "cell_type": "code",
   "execution_count": null,
   "id": "8926d1d2",
   "metadata": {},
   "outputs": [],
   "source": [
    "solver_settings = {\n",
    "  \"linear\": {\"solver\": _solv.LinearSolvers.SCIPY_SPARSE, \"scipy_solver\": {}},\n",
    "  \"nonlinear\": {\"max_iter\": 1, \"threshold\": 1.0e-4},\n",
    "}"
   ]
  },
  {
   "cell_type": "code",
   "execution_count": null,
   "id": "dcc00462",
   "metadata": {},
   "outputs": [],
   "source": [
    "fea = _fea.FEA(\n",
    "  mesh=mesh,\n",
    "  material=material_params,\n",
    "  deformation_model=deformation_model,\n",
    "  bc=bc,\n",
    "  solver_settings=solver_settings,\n",
    ")"
   ]
  },
  {
   "cell_type": "markdown",
   "id": "ff73fd4c",
   "metadata": {},
   "source": [
    "## Filter and projection\n",
    "\n",
    "A common issue in density based TO is the presence of checkerboard like design and the non convergence of the design towards binary values. We overcome these by filtering the densities and then projecting them. Here, we employ a simple radial filter."
   ]
  },
  {
   "cell_type": "code",
   "execution_count": null,
   "id": "7f1ca072",
   "metadata": {},
   "outputs": [],
   "source": [
    "dens_filter = _utils.create_density_filter(\n",
    "  mesh.elem_centers,\n",
    "  cutoff_distance=0.02 * mesh.bounding_box.diag_length,\n",
    "  filter_type=_utils.Filters.CIRCULAR,\n",
    ")"
   ]
  },
  {
   "cell_type": "markdown",
   "id": "5417630d",
   "metadata": {},
   "source": [
    "## Objective"
   ]
  },
  {
   "cell_type": "code",
   "execution_count": null,
   "id": "4a39e4ab",
   "metadata": {},
   "outputs": [],
   "source": [
    "@functools.partial(jax.jit, static_argnames=(\"fe\",))\n",
    "def objective_function(density: jnp.ndarray, fe: _fea.FEA, penal: float, u0=None):\n",
    "  def objective_wrapper(density):\n",
    "    # filter and project the density\n",
    "    filt_dens = dens_filter @ density\n",
    "    density = _utils.threshold_filter(filt_dens, beta=4.0)\n",
    "    penal_dens = density**penal + 1e-2\n",
    "\n",
    "    # material parameters\n",
    "    lam, mu = material_params.lame_parameters\n",
    "    lam, mu = lam * penal_dens, mu * penal_dens\n",
    "\n",
    "    # solve the FE problem\n",
    "    u = _solv.newton_raphson_solve(fe, u0, lam, mu)\n",
    "\n",
    "    # compute the compliance\n",
    "    force = jnp.zeros((mesh.num_dofs,))\n",
    "    force = force.at[mesh.elem_dof_mat].add(bc[\"elem_forces\"])\n",
    "    compliance = jnp.einsum(\"i, i -> \", u, force)\n",
    "    return compliance, (u, penal_dens)\n",
    "\n",
    "  (compliance, (displacements, penal_dens)), d_compliance = jax.value_and_grad(\n",
    "    objective_wrapper, has_aux=True\n",
    "  )(density)\n",
    "  return compliance, d_compliance.reshape((-1, 1)), displacements, penal_dens"
   ]
  },
  {
   "cell_type": "markdown",
   "id": "13739a34",
   "metadata": {},
   "source": [
    "## Constraint\n",
    "\n",
    "\n",
    "We define a simple volume constraint optimization problem where we restrict the maximum volume the design can assume. With the user defined `max_vol_frac` we compute the volume constraint. Once again, the gradients are computed automatically via jax's  `value_and_grad`.\n",
    "\n"
   ]
  },
  {
   "cell_type": "code",
   "execution_count": null,
   "id": "8c461096",
   "metadata": {},
   "outputs": [],
   "source": [
    "def constraint_function(density: jnp.ndarray, max_vol_frac: float):\n",
    "  def constraint_wrapper(density):\n",
    "    filt_dens = dens_filter @ density\n",
    "    density = _utils.threshold_filter(filt_dens, beta=4.0)\n",
    "\n",
    "    vol_frac = jnp.mean(density)\n",
    "    return (vol_frac / max_vol_frac) - 1.0\n",
    "\n",
    "  vol_cons, d_vol_cons = jax.value_and_grad(constraint_wrapper)(density)\n",
    "  return jnp.array([vol_cons]), d_vol_cons.T"
   ]
  },
  {
   "cell_type": "markdown",
   "id": "c3f544ec",
   "metadata": {},
   "source": [
    "## Optimize\n",
    "\n",
    "Here, we define the optimization loop. We use the MMA optimizer. We begin the optimization with a uniform design corresponding to the maximum allowed material fraction. The optimization steps are illustrated in following flowchart:\n",
    "\n",
    "<img src=\"../../figures/struct_flowchart.png\" alt=\"flowchart\" style=\"width: 800px;\"/>"
   ]
  },
  {
   "cell_type": "code",
   "execution_count": null,
   "id": "7021d057",
   "metadata": {},
   "outputs": [],
   "source": [
    "def optimize_design(\n",
    "  fe: _fea.FEA,\n",
    "  max_vol_frac: float,\n",
    "  max_iter: int,\n",
    "  move_limit: float = 1e-2,\n",
    "  kkt_tol: float = 1e-5,\n",
    "  step_tol: float = 1e-5,\n",
    "  plot_interval: int = 5,\n",
    "):\n",
    "\n",
    "  design_var = np.ones((fe.mesh.num_elems, 1))\n",
    "  num_design_var = design_var.shape[0]\n",
    "  num_cons = 1\n",
    "  lower_bound = np.zeros((num_design_var, 1))\n",
    "  upper_bound = np.ones((num_design_var, 1))\n",
    "  mma_params = _mma.MMAParams(\n",
    "    max_iter=max_iter,\n",
    "    kkt_tol=kkt_tol,\n",
    "    step_tol=step_tol,\n",
    "    move_limit=move_limit,\n",
    "    num_design_var=num_design_var,\n",
    "    num_cons=num_cons,\n",
    "    lower_bound=lower_bound,\n",
    "    upper_bound=upper_bound,\n",
    "  )\n",
    "  mma_state = _mma.init_mma(design_var, mma_params)\n",
    "\n",
    "  u = jnp.zeros((fe.mesh.num_dofs,)) + 1.0e-8\n",
    "  u = u.at[fe.bc[\"fixed_dofs\"]].set(fe.bc[\"dirichlet_values\"])\n",
    "\n",
    "  while not mma_state.is_converged:\n",
    "    print(\"mma_state.epoch\", mma_state.epoch)\n",
    "    penal = min(8.0, 1.0 + 0.05 * mma_state.epoch)\n",
    "\n",
    "    objective, grad_obj, u, _ = objective_function(mma_state.x, fe, penal, u)\n",
    "    u = jax.lax.stop_gradient(u)\n",
    "    u = u.at[fe.bc[\"fixed_dofs\"]].set(fe.bc[\"dirichlet_values\"])\n",
    "\n",
    "    constr, grad_cons = constraint_function(mma_state.x, max_vol_frac)\n",
    "\n",
    "    status = f\"epoch {mma_state.epoch} J {objective:.2E} mc {constr[0]:.2F}\"\n",
    "    print(status)\n",
    "\n",
    "    if mma_state.epoch % plot_interval == 0:\n",
    "      _, ax = plt.subplots(1, 1)\n",
    "      node_deformation = np.stack((u[0::2], u[1::2]), axis=1)\n",
    "      deformed_mesh = _mesher.deform_mesh(fe.mesh, node_deformation)\n",
    "      ax = _viz.plot_grid_mesh(\n",
    "        deformed_mesh,\n",
    "        mma_state.x.reshape(-1),\n",
    "        ax=ax,\n",
    "        val_range=(0.0, 1.0),\n",
    "        colorbar=False,\n",
    "      )\n",
    "      ax.set_aspect(\"equal\")\n",
    "      ax.spines[[\"top\", \"right\", \"left\", \"bottom\"]].set_visible(False)\n",
    "      ax.set_xticks([])\n",
    "      ax.set_yticks([])\n",
    "      plt.show()\n",
    "      plt.pause(1e-6)\n",
    "\n",
    "    mma_state = _mma.update_mma(\n",
    "      mma_state, mma_params, objective, grad_obj, constr, grad_cons\n",
    "    )\n",
    "\n",
    "  return mma_state, u"
   ]
  },
  {
   "cell_type": "code",
   "execution_count": null,
   "id": "20f25282",
   "metadata": {},
   "outputs": [],
   "source": [
    "mma_state, u = optimize_design(fea, max_vol_frac=0.25, max_iter=250, move_limit=2.0e-1)"
   ]
  },
  {
   "cell_type": "code",
   "execution_count": null,
   "id": "344ec4e4",
   "metadata": {},
   "outputs": [],
   "source": []
  }
 ],
 "metadata": {
  "kernelspec": {
   "display_name": "jaxenv",
   "language": "python",
   "name": "python3"
  },
  "language_info": {
   "codemirror_mode": {
    "name": "ipython",
    "version": 3
   },
   "file_extension": ".py",
   "mimetype": "text/x-python",
   "name": "python",
   "nbconvert_exporter": "python",
   "pygments_lexer": "ipython3",
   "version": "3.11.9"
  }
 },
 "nbformat": 4,
 "nbformat_minor": 5
}
