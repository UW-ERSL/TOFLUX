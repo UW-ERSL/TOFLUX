{
 "cells": [
  {
   "cell_type": "markdown",
   "id": "572ea0b1",
   "metadata": {},
   "source": [
    "## Setup\n",
    "\n",
    "In this notebook, we consider solving a simple structural mechanics PDE using our finite element solver. In particular, we consider the simple linear static Hookean response modeled as:\n",
    "\n",
    "$$\n",
    "\\nabla \\cdot \\boldsymbol{\\sigma} + \\mathbf{f} = 0\n",
    "\\qquad \\text{in } \\Omega,\n",
    "$$\n",
    "\n",
    "$$\n",
    "\\mathbf{u} = \\mathbf{u}_{0}\n",
    "\\qquad \\text{on } \\Gamma_{u},\n",
    "$$\n",
    "\n",
    "$$\n",
    "-\\,\\boldsymbol{\\sigma} \\cdot \\mathbf{n} = \\mathbf{t}_{0}\n",
    "\\qquad \\text{on } \\Gamma_{t}.\n",
    "$$\n",
    "Where:\n",
    "- **σ** is the Cauchy stress tensor,\n",
    "- **f** is the body force per unit volume,\n",
    "- **u** is the displacement vector field,\n",
    "- **u**₀ is the prescribed displacement on the Dirichlet boundary Γᵤ,\n",
    "- **t**₀ is the prescribed traction on the Neumann boundary Γₜ,\n",
    "- **n** is the outward unit normal vector to the boundary.\n",
    "\n",
    "Furthermore, the constitutive relation for a Hookean material can be described as:\n",
    "\n",
    "$$\n",
    "\\boldsymbol{\\sigma}\n",
    "  = \\lambda\\,\\operatorname{tr}(\\boldsymbol{\\varepsilon})\\,\\mathbf{I}\n",
    "    + 2\\mu\\,\\boldsymbol{\\varepsilon}\n",
    "$$\n",
    "\n",
    "$$\n",
    "\\boldsymbol{\\varepsilon}\n",
    "  = \\tfrac{1}{2}\\bigl(\\nabla\\mathbf{u} + (\\nabla\\mathbf{u})^{\\mathsf{T}}\\bigr).\n",
    "$$\n",
    "Where:\n",
    "- **ε** is the strain tensor.\n",
    "- λ and μ are the Lamé's first and second parameters.\n",
    "- **I** is the identity tensor.\n",
    "\n",
    "To illustrate this, we consider a simple L-beam problem, as shown in the figure below:\n",
    "\n",
    "<img src=\"../../figures/l_bracket.png\" alt=\"L-Bracket\" style=\"width: 200px;\"/>\n",
    "\n",
    "This notebook describes the problem setup for a simulation using a bilinear quadrilateral mesh.\n",
    "\n",
    "Finally, we compare the results with those obtained from Ansys to validate our solver.\n"
   ]
  },
  {
   "cell_type": "code",
   "execution_count": null,
   "id": "151d434a",
   "metadata": {},
   "outputs": [],
   "source": [
    "import numpy as np\n",
    "import jax.numpy as jnp\n",
    "import jax\n",
    "import matplotlib.pyplot as plt\n",
    "\n",
    "import toflux.src.geometry as _geom\n",
    "import toflux.src.mesher as _mesher\n",
    "import toflux.src.material as _mat\n",
    "import toflux.src.bc as _bc\n",
    "\n",
    "import toflux.src.fe_struct as _fea\n",
    "import toflux.src.solver as _solv\n",
    "import toflux.src.viz as _viz\n",
    "\n",
    "_Disp = _fea.DisplacementField\n",
    "\n",
    "jax.config.update(\"jax_enable_x64\", True)\n",
    "\n",
    "plt.rcParams.update(_viz.high_res_plot_settings)"
   ]
  },
  {
   "cell_type": "markdown",
   "id": "6701701e",
   "metadata": {},
   "source": [
    "## Mesh\n",
    "Below we set up the classical **L-bracket** benchmark that is widely used in structural analysis and topology-optimization.\n",
    "\n",
    "* **Geometry**  \n",
    "  The outline is stored in a `GeoJSON` file and imported directly into the mesher.\n",
    "\n",
    "* **Discretisation**  \n",
    "  The domain $\\Omega$ is subdivided into bilinear quadrilateral (voxel) elements.  \n",
    "  Each node carries two mechanical degrees of freedom: the displacements $u_x$ and $u_y$.\n",
    "\n",
    "* **Numerical integration**  \n",
    "  Element matrices are evaluated with a $3\\times3$ Gauss quadrature, providing third-order accuracy for the stiffness calculation.\n",
    "\n",
    "This mesh forms the starting point for both the finite-element analysis and any subsequent topology-optimization runs."
   ]
  },
  {
   "cell_type": "code",
   "execution_count": null,
   "id": "da8954a4",
   "metadata": {},
   "outputs": [],
   "source": [
    "geom = _geom.BrepGeometry(\"toflux/brep/Lbeam.json\")\n",
    "\n",
    "mesh = _mesher.grid_mesh_brep(\n",
    "  brep=geom,\n",
    "  nelx_desired=80,\n",
    "  nely_desired=80,\n",
    "  dofs_per_node=2,\n",
    "  gauss_order=3,\n",
    ")\n",
    "\n",
    "density = jnp.zeros(mesh.num_elems)\n",
    "_viz.plot_grid_mesh(mesh, density)"
   ]
  },
  {
   "cell_type": "code",
   "execution_count": null,
   "id": "bbd79b6b",
   "metadata": {},
   "outputs": [],
   "source": [
    "_viz.plot_brep(geom)"
   ]
  },
  {
   "cell_type": "markdown",
   "id": "8998e233",
   "metadata": {},
   "source": [
    "## Material\n",
    "\n",
    "\n",
    "We consider a simplified scenario where the Young's modulus is unity. Furthermore, we consider a small deformations. "
   ]
  },
  {
   "cell_type": "code",
   "execution_count": null,
   "id": "ae33faa0",
   "metadata": {},
   "outputs": [],
   "source": [
    "material_params = _mat.StructuralMaterial(\n",
    "  youngs_modulus=1.0,\n",
    "  poissons_ratio=0.30,\n",
    ")\n",
    "\n",
    "deformation_model = _fea.DeformationModel.SMALL"
   ]
  },
  {
   "cell_type": "markdown",
   "id": "2fcb6d0e",
   "metadata": {},
   "source": [
    "## Boundary conditions\n",
    "\n",
    "As illustrated in the Figure, we fix the top edge with a load applied on the hanging face. We find the faces (and nodes) associated with the boundary condition. We provide a simplified boundary condition module where the specified values are applied directly on the nodes. The boundary conditions are tabulated as:\n",
    "| Part of geometry | Type | Specification |\n",
    "|------------------|------|---------------|\n",
    "| **Top horizontal edge** | **Dirichlet (fixed support)** | \\(u_x = u_y = 0\\) |\n",
    "| **Hanging edge**  | **Neumann (surface traction)** | Downward load |"
   ]
  },
  {
   "cell_type": "code",
   "execution_count": null,
   "id": "15dc3676",
   "metadata": {},
   "outputs": [],
   "source": [
    "hang_faces = _bc.identify_faces(mesh, edges=[geom.edges[2]])\n",
    "n = len(hang_faces)\n",
    "hang_face_val = [(_Disp.V, -5.e-4 * jnp.ones(n))]\n",
    "\n",
    "\n",
    "top_faces = _bc.identify_faces(mesh, edges=[geom.edges[5]])\n",
    "n = len(top_faces)\n",
    "xv = (_Disp.U, jnp.zeros(n))\n",
    "yv = (_Disp.V, jnp.zeros(n))\n",
    "\n",
    "top_face_val = [xv, yv]\n",
    "\n",
    "fixed_bc = _bc.DirichletBC(elem_faces=top_faces, values=top_face_val, name=\"fix\")\n",
    "load_bc = _bc.NeumannBC(elem_faces=hang_faces, values=hang_face_val, name=\"load\")\n",
    "\n",
    "bc_list = [fixed_bc, load_bc]\n",
    "bc = _bc.process_boundary_conditions(bc_list, mesh)\n",
    "\n",
    "_viz.plot_bc(bc_list, mesh)"
   ]
  },
  {
   "cell_type": "markdown",
   "id": "764d3a7a",
   "metadata": {},
   "source": [
    "## Solver\n",
    "\n",
    "We define the settings for the solver. By default, all our FEA solvers are programmed as a subclass of nonlinear problems. Hence, the solver expects the settings for both the linear and nonlinear solvers.\n",
    "Even when the physics is linear, the solver still performs a Newton–Raphson step; for a small-strain model this step converges in **one iteration**. However, when choosing a large deformation model, the problem is nonlinear and more newton raphson iterations might be needed. Furthermore, we have interfaced JAX with a variety of fast linear solvers whose appropriate settings needs to be passed. For more details see `solver.py`."
   ]
  },
  {
   "cell_type": "code",
   "execution_count": null,
   "id": "dda0103a",
   "metadata": {},
   "outputs": [],
   "source": [
    "solver_settings = {\n",
    "  \"linear\": {\"solver\": _solv.LinearSolvers.SCIPY_SPARSE, \"scipy_solver\": {}},\n",
    "  \"nonlinear\": {\"max_iter\": 1, \"threshold\": 1.0e-4},\n",
    "}"
   ]
  },
  {
   "cell_type": "markdown",
   "id": "6cab1cf4",
   "metadata": {},
   "source": [
    "## FEA initalize\n",
    "\n",
    "We initialize the FEA solver with the mesh, material, boundary conditions and solver settings. Additionally, for structural simulation, we offer a small or large (nonlinear) deformation model for the user to experiment."
   ]
  },
  {
   "cell_type": "code",
   "execution_count": null,
   "id": "05c2a3ab",
   "metadata": {},
   "outputs": [],
   "source": [
    "fea = _fea.FEA(\n",
    "  mesh=mesh,\n",
    "  material=material_params,\n",
    "  deformation_model=deformation_model,\n",
    "  bc=bc,\n",
    "  solver_settings=solver_settings,\n",
    ")"
   ]
  },
  {
   "cell_type": "markdown",
   "id": "09e60d59",
   "metadata": {},
   "source": [
    "## Solve\n",
    "\n",
    "We associate each element with the Lame's parameters. Furthermore, we provide an inital guess of the solution with the Dirichlet condition enforced."
   ]
  },
  {
   "cell_type": "code",
   "execution_count": null,
   "id": "dffcf580",
   "metadata": {},
   "outputs": [],
   "source": [
    "lam, mu = material_params.lame_parameters\n",
    "lam = lam * jnp.ones(mesh.num_elems)\n",
    "mu = mu * jnp.ones(mesh.num_elems)\n",
    "\n",
    "u0 = jnp.zeros((mesh.num_dofs,)) + 1.e-6\n",
    "u0 = u0.at[bc['fixed_dofs']].set(bc['dirichlet_values'])\n",
    "\n",
    "u = _solv.newton_raphson_solve(fea, u0, lam, mu)"
   ]
  },
  {
   "cell_type": "markdown",
   "id": "bdd94244",
   "metadata": {},
   "source": [
    "## Plot\n",
    "\n",
    "We visualize the dsplacement magnitude here."
   ]
  },
  {
   "cell_type": "code",
   "execution_count": null,
   "id": "71f775e2",
   "metadata": {},
   "outputs": [],
   "source": [
    "node_deformation = np.stack((u[0::2], u[1::2]), axis=1)\n",
    "deformed_mesh = _mesher.deform_mesh(fea.mesh, node_deformation)\n",
    "\n",
    "u_mag = jnp.linalg.norm(node_deformation, axis=1)\n",
    "u_elem = u_mag[mesh.elem_nodes].mean(axis=1)\n",
    "\n",
    "fig, ax = plt.subplots(1, 1)\n",
    "ax = _viz.plot_grid_mesh(\n",
    "  deformed_mesh,\n",
    "  u_elem,\n",
    "  ax=ax,\n",
    "  colorbar=True,\n",
    ")"
   ]
  }
 ],
 "metadata": {
  "kernelspec": {
   "display_name": "toflux-LlApWdfB-py3.11",
   "language": "python",
   "name": "python3"
  },
  "language_info": {
   "codemirror_mode": {
    "name": "ipython",
    "version": 3
   },
   "file_extension": ".py",
   "mimetype": "text/x-python",
   "name": "python",
   "nbconvert_exporter": "python",
   "pygments_lexer": "ipython3",
   "version": "3.11.5"
  }
 },
 "nbformat": 4,
 "nbformat_minor": 5
}
