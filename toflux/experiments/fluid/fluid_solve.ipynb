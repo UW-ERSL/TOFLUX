{
 "cells": [
  {
   "cell_type": "markdown",
   "id": "2864a80e",
   "metadata": {},
   "source": [
    "## Setup\n",
    "\n",
    "In this notebook we solve a **steady, incompressible Navier–Stokes** problem with a Brinkman term so that solid regions can be embedded directly in the domain. This formulation can be usedto solve a pure fluid flow case and in topology optimization.\n",
    "\n",
    "### Governing equations  \n",
    "\n",
    "$$\n",
    "\\rho\\,\\mathbf{u}\\,\\cdot\\nabla\\mathbf{u}\n",
    "-\\nabla\\!\\cdot\\!\\Bigl[\\mu\\bigl(\\nabla\\mathbf{u}+\\nabla\\mathbf{u}^{\\mathrm T}\\bigr)\\Bigr]\n",
    "+\\nabla p\n",
    "+\\alpha\\,\\mathbf{u}\n",
    "= \\mathbf{0}\n",
    "\\qquad\\text{in } \\Omega,\n",
    "$$  \n",
    "\n",
    "$$\n",
    "\\nabla\\!\\cdot\\!\\mathbf{u}=0\n",
    "\\qquad\\text{in } \\Omega.\n",
    "$$  \n",
    "\n",
    "Here  \n",
    "\n",
    "* $\\mathbf u=(u_x,u_y)$ velocity  \n",
    "* $p$ pressure  \n",
    "* $\\rho$ density  \n",
    "* $\\mu$ dynamic viscosity  \n",
    "* $\\alpha$ Brinkman penalisation that damps flow in solid zones.\n",
    "\n",
    "### Boundary conditions  \n",
    "\n",
    "$$\n",
    "\\begin{aligned}\n",
    "\\mathbf{u} &= \\mathbf{u}_{\\text{in}}\n",
    "&&\\text{on } \\Gamma_{\\text{in}}\\quad\\text{(prescribed inflow)},\\\\[4pt]\n",
    "-p\\,\\mathbf{n} + \\mu\\bigl(\\nabla\\mathbf{u}+\\nabla\\mathbf{u}^{\\mathrm T}\\bigr)\\mathbf{n} &= \\mathbf{0}\n",
    "&&\\text{on } \\Gamma_{\\text{out}}\\quad\\text{(zero-normal-stress outflow)},\\\\[4pt]\n",
    "\\mathbf{u} &= \\mathbf{0}\n",
    "&&\\text{on } \\Gamma_{\\text{wall}}\\quad\\text{(no-slip walls)}.\n",
    "\\end{aligned}\n",
    "$$  \n",
    "\n",
    "\n",
    "\n",
    "---\n",
    "\n",
    "### Test case: channel-flow benchmark  \n",
    "\n",
    "<img src=\"../../figures/channel.png\" alt=\"Channel\" style=\"width: 500px;\"/>\n",
    "\n",
    "A fully developed laminar flow enters a straight 2-D channel and exits\n",
    "through a zeero pressure outlet.  \n",
    "The domain is discretised with bilinear quadrilateral elements; nodal\n",
    "velocities are paired with nodal pressures.\n",
    "\n",
    "We integrate the incompressible Navier–Stokes equations with a damped\n",
    "Newton iteration and a linear solver, then verify the\n",
    "centre-line velocity profile and overall pressure drop against classical\n",
    "Poiseuille-flow theory.\n"
   ]
  },
  {
   "cell_type": "code",
   "execution_count": null,
   "id": "3b6109d2",
   "metadata": {},
   "outputs": [],
   "source": [
    "import numpy as np\n",
    "import jax.numpy as jnp\n",
    "import jax\n",
    "import matplotlib.pyplot as plt\n",
    "\n",
    "import toflux.src.geometry as _geom\n",
    "import toflux.src.mesher as _mesher\n",
    "import toflux.src.material as _mat\n",
    "import toflux.src.utils as _utils\n",
    "import toflux.src.bc as _bc\n",
    "import toflux.src.fe_fluid as _fea\n",
    "import toflux.src.solver as _solv\n",
    "import toflux.src.viz as _viz\n",
    "\n",
    "jax.config.update(\"jax_enable_x64\", True)\n",
    "plt.rcParams.update(_viz.high_res_plot_settings)\n",
    "\n",
    "_Field = _fea.FluidField"
   ]
  },
  {
   "cell_type": "markdown",
   "id": "ef78ff0f",
   "metadata": {},
   "source": [
    "### Mesh  \n",
    "\n",
    "Below we build the canonical **channel-flow** benchmark commonly used in fluid-dynamics.\n",
    "\n",
    "#### Geometry  \n",
    "A simple straight channel is described in a json and passed to the geometry. This geometry is passed to the mesher.\n",
    "\n",
    "#### Discretisation  \n",
    "* The domain $(\\Omega)$ is partitioned into **bilinear quadrilateral (Q1) elements**.  \n",
    "* Both primary fields—velocity $(\\mathbf u=(u_x,u_y))$ **and** pressure (p\\)—are interpolated with the same Q1 shape functions (equal-order Q1/Q1 formulation).\n",
    "\n",
    "#### Numerical integration  \n",
    "Element contributions (mass, convection, brinkman, viscous and stability terms) are evaluated with a $(2 \\times 2)$ Gauss quadrature.\n",
    "\n",
    "This mesh serves as the baseline for the finite-element Navier–Stokes solve and for any subsequent density-based topology-optimisation runs.\n"
   ]
  },
  {
   "cell_type": "code",
   "execution_count": null,
   "id": "8caebe31",
   "metadata": {},
   "outputs": [],
   "source": [
    "geom = _geom.BrepGeometry(brep_file=\"toflux/brep/channel_flow.json\")\n",
    "\n",
    "mesh = _mesher.grid_mesh_brep(\n",
    "  brep=geom,\n",
    "  nelx_desired=200,\n",
    "  nely_desired=40,\n",
    "  dofs_per_node=3,\n",
    "  gauss_order=2,\n",
    ")\n",
    "\n",
    "_viz.plot_brep(geom)"
   ]
  },
  {
   "cell_type": "markdown",
   "id": "03c70e78",
   "metadata": {},
   "source": [
    "### Material  \n",
    "\n",
    "For this fluid demonstration we keep the parameters simple and dimension-consistent:\n",
    "\n",
    "| Symbol | Meaning | Value |\n",
    "|--------|---------|-------|\n",
    "| $(\\rho)$ | Mass density | **1.2 kg m⁻³** (air at room temperature) |\n",
    "| $(\\mu)$ | Dynamic viscosity | **1.8 × 10⁻⁵ Pa s** |\n",
    "\n",
    "We also prepare the *inverse permeability* field used in the Brinkman term.  \n",
    "A RAMP interpolation converts the design variable $(\\gamma\\in[0,1])$ into the damping coefficient $(\\alpha)$. In this fluid flow problem we enforce 0. brinkman penalty to recover the Navier Stokes equation. However, in the subsequent topology optimization the brinkman penalty value damps fluid flow in solid.\n"
   ]
  },
  {
   "cell_type": "code",
   "execution_count": null,
   "id": "cd44361c",
   "metadata": {},
   "outputs": [],
   "source": [
    "mat_params = _mat.FluidMaterial(\n",
    "  mass_density=1.2,\n",
    "  dynamic_viscosity=1.8e-5,\n",
    ")\n",
    "mat_frac = 0.0 * jnp.ones((mesh.num_elems,)).astype(jnp.float64)\n",
    "inv_permeability_ext = _utils.Extent(min=0.0, max=122.5)\n",
    "brinkman_penalty = _mat.compute_ramp_interpolation(\n",
    "  prop=mat_frac,\n",
    "  ramp_penalty=8.0,\n",
    "  prop_ext=inv_permeability_ext,\n",
    ")"
   ]
  },
  {
   "cell_type": "markdown",
   "id": "c9619464",
   "metadata": {},
   "source": [
    "# Boundray Conditions\n",
    "\n",
    "\n",
    "| Region | Type | Imposed values |\n",
    "|--------|------|----------------|\n",
    "| **Inlet (left vertical edge)** | Dirichlet | $(u = U_\\text{c})$, $(v = 0)$ |\n",
    "| **Outlet (right vertical edge)** | Dirichlet v, p | \\(p = 0\\), \\(v = 0\\) |\n",
    "| **Top wall** | No-slip (Dirichlet) | \\(u = 0\\), \\(v = 0\\) |\n",
    "| **Bottom wall** | No-slip (Dirichlet) | \\(u = 0\\), \\(v = 0\\) |\n",
    "\n",
    "**Characteristic velocity**\n",
    "\n",
    "The inlet velocity is chosen to give a channel Reynolds number of 100:\n",
    "\n",
    "$$\n",
    "U_c \\;=\\; \\frac{\\mathrm{Re}\\,\\nu}{H},\n",
    "\\qquad\n",
    "\\text{Re} = 100,\\;\n",
    "\\quad\n",
    "\\nu = \\frac{\\mu}{\\rho},\n",
    "\\quad\n",
    "H = \\text{channel height}.\n",
    "$$\n"
   ]
  },
  {
   "cell_type": "code",
   "execution_count": null,
   "id": "dd7e75ca",
   "metadata": {},
   "outputs": [],
   "source": [
    "reynolds_num = 100.0\n",
    "char_velocity = reynolds_num * mat_params.kinematic_viscosity / (mesh.bounding_box.ly)"
   ]
  },
  {
   "cell_type": "code",
   "execution_count": null,
   "id": "5c69a03b",
   "metadata": {},
   "outputs": [],
   "source": [
    "face_tol = mesh.elem_size[0] * 0.5\n",
    "\n",
    "# inlet condition\n",
    "inlet_faces = _bc.identify_faces(mesh, edges=[geom.edges[3]], tol=face_tol)\n",
    "n = len(inlet_faces)\n",
    "u_vel = (_Field.U_VEL, char_velocity * jnp.ones(n))\n",
    "v_vel = (_Field.V_VEL, jnp.zeros(n))\n",
    "inlet_face_val = [u_vel, v_vel]\n",
    "\n",
    "# outlet condition\n",
    "outlet_faces = _bc.identify_faces(mesh, edges=[geom.edges[1]], tol=face_tol)\n",
    "n = len(outlet_faces)\n",
    "v_vel = (_Field.V_VEL, jnp.zeros(n))\n",
    "pres = (_Field.PRESSURE, jnp.zeros(n))\n",
    "outlet_face_val = [v_vel, pres]\n",
    "\n",
    "# top condition\n",
    "top_faces = _bc.identify_faces(mesh, edges=[geom.edges[2]], tol=face_tol)\n",
    "n = len(top_faces)\n",
    "u_vel = (_Field.U_VEL, jnp.zeros(n))\n",
    "v_vel = (_Field.V_VEL, jnp.zeros(n))\n",
    "top_face_val = [u_vel, v_vel]\n",
    "\n",
    "# bottom condition\n",
    "bottom_faces = _bc.identify_faces(mesh, edges=[geom.edges[0]], tol=face_tol)\n",
    "n = len(bottom_faces)\n",
    "u_vel = (_Field.U_VEL, jnp.zeros(n))\n",
    "v_vel = (_Field.V_VEL, jnp.zeros(n))\n",
    "bottom_face_val = [u_vel, v_vel]\n",
    "\n",
    "inlet_bc = _bc.DirichletBC(elem_faces=inlet_faces, values=inlet_face_val, name=\"inlet\")\n",
    "outlet_bc = _bc.DirichletBC(\n",
    "  elem_faces=outlet_faces, values=outlet_face_val, name=\"outlet\"\n",
    ")\n",
    "top_bc = _bc.DirichletBC(elem_faces=top_faces, values=top_face_val, name=\"top\")\n",
    "bottom_bc = _bc.DirichletBC(\n",
    "  elem_faces=bottom_faces, values=bottom_face_val, name=\"bottom\"\n",
    ")\n",
    "\n",
    "bc_list = [inlet_bc, outlet_bc, top_bc, bottom_bc]\n",
    "bc = _bc.process_boundary_conditions(bc_list, mesh)\n",
    "\n",
    "_viz.plot_bc(bc_list, mesh)"
   ]
  },
  {
   "cell_type": "markdown",
   "id": "06e79c7d",
   "metadata": {},
   "source": [
    "# Solver\n",
    "\n",
    "\n",
    "The incompressible Navier–Stokes–Brinkman system is **intrinsically non-linear** because of the convective term .\n",
    "Our solver therefore employs a *damped/modified Newton–Raphson* loop. For more details see 'solver.py'.\n"
   ]
  },
  {
   "cell_type": "code",
   "execution_count": null,
   "id": "8324695c",
   "metadata": {},
   "outputs": [],
   "source": [
    "solver_settings = {\n",
    "  \"linear\": {\n",
    "    \"solver\": _solv.LinearSolvers.SCIPY_SPARSE,\n",
    "    \"rtol\": 1.0e-3,\n",
    "  },\n",
    "  \"nonlinear\": {\"max_iter\": 10, \"threshold\": 1.0e-4},\n",
    "}"
   ]
  },
  {
   "cell_type": "markdown",
   "id": "4c7a5cad",
   "metadata": {},
   "source": [
    "# Initialize\n",
    "\n",
    "We initialize the FEA solver with the mesh, material, boundary conditions and solver settings."
   ]
  },
  {
   "cell_type": "code",
   "execution_count": null,
   "id": "3dedfda1",
   "metadata": {},
   "outputs": [],
   "source": [
    "fea = _fea.FluidSolver(mesh, bc, mat_params, solver_settings=solver_settings)"
   ]
  },
  {
   "cell_type": "markdown",
   "id": "e08841ab",
   "metadata": {},
   "source": [
    "# Solve\n",
    "We provide an inital guess of the solution with the Dirichlet condition enforced."
   ]
  },
  {
   "cell_type": "code",
   "execution_count": null,
   "id": "02b1c87b",
   "metadata": {},
   "outputs": [],
   "source": [
    "init_press_vel = jnp.zeros((mesh.num_dofs,))\n",
    "init_press_vel = init_press_vel.at[bc[\"fixed_dofs\"]].set(bc[\"dirichlet_values\"])\n",
    "\n",
    "press_vel = _solv.modified_newton_raphson_solve(fea, init_press_vel, brinkman_penalty)"
   ]
  },
  {
   "cell_type": "markdown",
   "id": "048b1774",
   "metadata": {},
   "source": [
    "# Plot"
   ]
  },
  {
   "cell_type": "markdown",
   "id": "72c64ded",
   "metadata": {},
   "source": [
    "We visualize the horizontal velocity here."
   ]
  },
  {
   "cell_type": "code",
   "execution_count": null,
   "id": "3e706182",
   "metadata": {},
   "outputs": [],
   "source": [
    "press_vel_elem = press_vel[mesh.elem_dof_mat]\n",
    "press_elem = np.mean(press_vel_elem[:, 0::3], axis=1)\n",
    "u_vel_elem = np.mean(press_vel_elem[:, 1::3], axis=1)\n",
    "v_vel_elem = np.mean(press_vel_elem[:, 2::3], axis=1)\n",
    "vel_elem_mag = np.sqrt(u_vel_elem**2 + v_vel_elem**2)\n",
    "_, ax = plt.subplots(1, 1)\n",
    "ax = _viz.plot_grid_mesh(mesh=mesh, field=vel_elem_mag, ax=ax, colorbar=True)\n",
    "ax.set_title(\"Velocity Magnitude\")\n",
    "\n",
    "_, ax = plt.subplots(1, 1)\n",
    "ax = _viz.plot_grid_mesh(mesh=mesh, field=press_elem, ax=ax, colorbar=True)\n",
    "ax.set_title(\"Pressure\")\n",
    "plt.show()"
   ]
  }
 ],
 "metadata": {
  "kernelspec": {
   "display_name": "toflux-LlApWdfB-py3.11",
   "language": "python",
   "name": "python3"
  },
  "language_info": {
   "codemirror_mode": {
    "name": "ipython",
    "version": 3
   },
   "file_extension": ".py",
   "mimetype": "text/x-python",
   "name": "python",
   "nbconvert_exporter": "python",
   "pygments_lexer": "ipython3",
   "version": "3.11.5"
  }
 },
 "nbformat": 4,
 "nbformat_minor": 5
}
